{
 "cells": [
  {
   "cell_type": "markdown",
   "id": "b5ec5f41",
   "metadata": {},
   "source": [
    "1. Memuat Data dan Library yang Diperlukan"
   ]
  },
  {
   "cell_type": "code",
   "execution_count": 54,
   "id": "b0f97fca",
   "metadata": {},
   "outputs": [],
   "source": [
    "import pandas as pd\n",
    "import numpy as np\n",
    "from collections import Counter\n"
   ]
  },
  {
   "cell_type": "code",
   "execution_count": 55,
   "id": "c0197767",
   "metadata": {},
   "outputs": [],
   "source": [
    "data = pd.read_csv('../00_Data/Electronic_sales_Sep2023-Sep2024.csv')"
   ]
  },
  {
   "cell_type": "markdown",
   "id": "f8d70d1e",
   "metadata": {},
   "source": [
    "2. Melakukan Data Wrangling"
   ]
  },
  {
   "cell_type": "markdown",
   "id": "8aa1311e",
   "metadata": {},
   "source": [
    "2.1 Handling Missing Values"
   ]
  },
  {
   "cell_type": "markdown",
   "id": "20168888",
   "metadata": {},
   "source": [
    "Gender (0.005% missing)"
   ]
  },
  {
   "cell_type": "code",
   "execution_count": 56,
   "id": "1ea3d58f",
   "metadata": {},
   "outputs": [],
   "source": [
    "data['Gender'] = np.where(\n",
    "    data['Gender'].isna(),\n",
    "    np.nan,\n",
    "    data['Gender'].astype(str)\n",
    ")\n",
    "data = data.dropna(subset=['Gender'])"
   ]
  },
  {
   "cell_type": "markdown",
   "id": "4f7f5fc2",
   "metadata": {},
   "source": [
    "Add-ons Purchased (24.34% missing)"
   ]
  },
  {
   "cell_type": "code",
   "execution_count": 57,
   "id": "ca3e6bb0",
   "metadata": {},
   "outputs": [],
   "source": [
    "data['Add-ons Purchased'] = np.where(\n",
    "    data['Add-ons Purchased'].isna(),\n",
    "    np.nan,\n",
    "    data['Add-ons Purchased'].astype(str)\n",
    ")\n",
    "data['Add-ons Purchased'] = data['Add-ons Purchased'].fillna('No')"
   ]
  },
  {
   "cell_type": "markdown",
   "id": "8afbb8bf",
   "metadata": {},
   "source": [
    "2.2 Handling High Cardinality"
   ]
  },
  {
   "cell_type": "markdown",
   "id": "60cb20dd",
   "metadata": {},
   "source": [
    "Purchase Date"
   ]
  },
  {
   "cell_type": "code",
   "execution_count": 58,
   "id": "c0a119fd",
   "metadata": {},
   "outputs": [],
   "source": [
    "# Convert to datetime and extract useful features\n",
    "data['Purchase Date'] = pd.to_datetime(data['Purchase Date'])\n",
    "data['Purchase_Day'] = data['Purchase Date'].dt.day\n",
    "data['Purchase_Month'] = data['Purchase Date'].dt.month\n",
    "data['Purchase_Year'] = data['Purchase Date'].dt.year\n",
    "# data['Purchase_DayOfWeek'] = data['Purchase Date'].dt.dayofweek\n",
    "# data['Purchase_DayOfYear'] = data['Purchase Date'].dt.dayofyear\n",
    "\n",
    "# Drop original column if needed\n",
    "data.drop('Purchase Date', axis=1, inplace=True)"
   ]
  },
  {
   "cell_type": "markdown",
   "id": "09b0452e",
   "metadata": {},
   "source": [
    "Add-ons Purchased"
   ]
  },
  {
   "cell_type": "code",
   "execution_count": 59,
   "id": "a223c95f",
   "metadata": {},
   "outputs": [],
   "source": [
    "data['Add-ons Purchased'] = data['Add-ons Purchased'].str.replace(', ', ',')\n",
    "\n",
    "# Pisahkan string menjadi list\n",
    "split_data = data['Add-ons Purchased'].str.split(',')\n",
    "\n",
    "all_items = []\n",
    "for items in split_data:\n",
    "    all_items.extend(items)\n",
    "unique_categories = set(all_items)\n",
    "\n",
    "for category in unique_categories:\n",
    "    data[f\"{category}\"] = split_data.apply(lambda x: x.count(category))\n"
   ]
  },
  {
   "cell_type": "markdown",
   "id": "54ce4812",
   "metadata": {},
   "source": [
    "Fitur Engineering"
   ]
  },
  {
   "cell_type": "code",
   "execution_count": 60,
   "id": "c09d6fbe",
   "metadata": {},
   "outputs": [],
   "source": [
    "data['Add-ons Purchased'] = data['Add-ons Purchased'].apply(lambda x: 0 if x == 'No' else 1)\n",
    "data.drop(columns=['No'], inplace=True)"
   ]
  },
  {
   "cell_type": "code",
   "execution_count": 61,
   "id": "3d8baed5",
   "metadata": {},
   "outputs": [],
   "source": [
    "# Save Data\n",
    "data.to_csv('../00_Data/electronic_sales_prepared.csv', index=False)"
   ]
  }
 ],
 "metadata": {
  "kernelspec": {
   "display_name": "venv",
   "language": "python",
   "name": "python3"
  },
  "language_info": {
   "codemirror_mode": {
    "name": "ipython",
    "version": 3
   },
   "file_extension": ".py",
   "mimetype": "text/x-python",
   "name": "python",
   "nbconvert_exporter": "python",
   "pygments_lexer": "ipython3",
   "version": "3.12.7"
  }
 },
 "nbformat": 4,
 "nbformat_minor": 5
}
