{
 "cells": [
  {
   "cell_type": "markdown",
   "id": "b5ec5f41",
   "metadata": {},
   "source": [
    "1. Memuat Data dan Library yang Diperlukan"
   ]
  },
  {
   "cell_type": "code",
   "execution_count": 29,
   "id": "b0f97fca",
   "metadata": {},
   "outputs": [],
   "source": [
    "import pandas as pd\n",
    "import numpy as np\n",
    "from collections import Counter\n"
   ]
  },
  {
   "cell_type": "code",
   "execution_count": 30,
   "id": "c0197767",
   "metadata": {},
   "outputs": [],
   "source": [
    "data = pd.read_csv('../00_Data/Electronic_sales_Sep2023-Sep2024.csv')"
   ]
  },
  {
   "cell_type": "markdown",
   "id": "f8d70d1e",
   "metadata": {},
   "source": [
    "2. Melakukan Data Wrangling"
   ]
  },
  {
   "cell_type": "markdown",
   "id": "9fa26b7f",
   "metadata": {},
   "source": [
    "Data Type Checks"
   ]
  },
  {
   "cell_type": "code",
   "execution_count": 31,
   "id": "7830b596",
   "metadata": {},
   "outputs": [],
   "source": [
    "# data['Gender'] = data['Gender'].astype(str)\n",
    "# data['Add-ons Purchased'] = data['Add-ons Purchased'].astype(str)"
   ]
  },
  {
   "cell_type": "markdown",
   "id": "8aa1311e",
   "metadata": {},
   "source": [
    "2.1 Handling Missing Values"
   ]
  },
  {
   "cell_type": "markdown",
   "id": "20168888",
   "metadata": {},
   "source": [
    "Gender (0.005% missing)"
   ]
  },
  {
   "cell_type": "code",
   "execution_count": 32,
   "id": "1ea3d58f",
   "metadata": {},
   "outputs": [],
   "source": [
    "data['Gender'] = np.where(\n",
    "    data['Gender'].isna(),\n",
    "    np.nan,\n",
    "    data['Gender'].astype(str)\n",
    ")\n",
    "data = data.dropna(subset=['Gender'])"
   ]
  },
  {
   "cell_type": "markdown",
   "id": "4f7f5fc2",
   "metadata": {},
   "source": [
    "Add-ons Purchased (24.34% missing)"
   ]
  },
  {
   "cell_type": "code",
   "execution_count": 33,
   "id": "ca3e6bb0",
   "metadata": {},
   "outputs": [],
   "source": [
    "data['Add-ons Purchased'] = np.where(\n",
    "    data['Add-ons Purchased'].isna(),\n",
    "    np.nan,\n",
    "    data['Add-ons Purchased'].astype(str)\n",
    ")\n",
    "data['Add-ons Purchased'] = data['Add-ons Purchased'].fillna('No Addons')"
   ]
  },
  {
   "cell_type": "markdown",
   "id": "8afbb8bf",
   "metadata": {},
   "source": [
    "2.2 Handling High Cardinality"
   ]
  },
  {
   "cell_type": "markdown",
   "id": "60cb20dd",
   "metadata": {},
   "source": [
    "Purchase Date"
   ]
  },
  {
   "cell_type": "code",
   "execution_count": 34,
   "id": "c0a119fd",
   "metadata": {},
   "outputs": [],
   "source": [
    "# Convert to datetime and extract useful features\n",
    "data['Purchase Date'] = pd.to_datetime(data['Purchase Date'])\n",
    "data['Purchase_Day'] = data['Purchase Date'].dt.day\n",
    "data['Purchase_Month'] = data['Purchase Date'].dt.month\n",
    "data['Purchase_Year'] = data['Purchase Date'].dt.year\n",
    "# data['Purchase_DayOfWeek'] = data['Purchase Date'].dt.dayofweek\n",
    "# data['Purchase_DayOfYear'] = data['Purchase Date'].dt.dayofyear\n",
    "\n",
    "# Drop original column if needed\n",
    "data.drop('Purchase Date', axis=1, inplace=True)"
   ]
  },
  {
   "cell_type": "markdown",
   "id": "09b0452e",
   "metadata": {},
   "source": [
    "Add-ons Purchased"
   ]
  },
  {
   "cell_type": "code",
   "execution_count": 35,
   "id": "a223c95f",
   "metadata": {},
   "outputs": [],
   "source": [
    "data['Add-ons Purchased'] = data['Add-ons Purchased'].str.replace(', ', ',')\n",
    "\n",
    "# Pisahkan string menjadi list\n",
    "split_data = data['Add-ons Purchased'].str.split(',')\n",
    "\n",
    "all_items = []\n",
    "for items in split_data:\n",
    "    all_items.extend(items)\n",
    "unique_categories = set(all_items)\n",
    "\n",
    "for category in unique_categories:\n",
    "    data[f\"{category}_count\"] = split_data.apply(lambda x: x.count(category))\n"
   ]
  },
  {
   "cell_type": "code",
   "execution_count": 36,
   "id": "39589def",
   "metadata": {},
   "outputs": [
    {
     "data": {
      "application/vnd.microsoft.datawrangler.viewer.v0+json": {
       "columns": [
        {
         "name": "index",
         "rawType": "int64",
         "type": "integer"
        },
        {
         "name": "Customer ID",
         "rawType": "int64",
         "type": "integer"
        },
        {
         "name": "Age",
         "rawType": "int64",
         "type": "integer"
        },
        {
         "name": "Gender",
         "rawType": "object",
         "type": "string"
        },
        {
         "name": "Loyalty Member",
         "rawType": "object",
         "type": "string"
        },
        {
         "name": "Product Type",
         "rawType": "object",
         "type": "string"
        },
        {
         "name": "SKU",
         "rawType": "object",
         "type": "string"
        },
        {
         "name": "Rating",
         "rawType": "int64",
         "type": "integer"
        },
        {
         "name": "Order Status",
         "rawType": "object",
         "type": "string"
        },
        {
         "name": "Payment Method",
         "rawType": "object",
         "type": "string"
        },
        {
         "name": "Total Price",
         "rawType": "float64",
         "type": "float"
        },
        {
         "name": "Unit Price",
         "rawType": "float64",
         "type": "float"
        },
        {
         "name": "Quantity",
         "rawType": "int64",
         "type": "integer"
        },
        {
         "name": "Shipping Type",
         "rawType": "object",
         "type": "string"
        },
        {
         "name": "Add-ons Purchased",
         "rawType": "object",
         "type": "string"
        },
        {
         "name": "Add-on Total",
         "rawType": "float64",
         "type": "float"
        },
        {
         "name": "Purchase_Day",
         "rawType": "int32",
         "type": "integer"
        },
        {
         "name": "Purchase_Month",
         "rawType": "int32",
         "type": "integer"
        },
        {
         "name": "Purchase_Year",
         "rawType": "int32",
         "type": "integer"
        },
        {
         "name": "Accessory_count",
         "rawType": "int64",
         "type": "integer"
        },
        {
         "name": "Impulse Item_count",
         "rawType": "int64",
         "type": "integer"
        },
        {
         "name": "No Addons_count",
         "rawType": "int64",
         "type": "integer"
        },
        {
         "name": "Extended Warranty_count",
         "rawType": "int64",
         "type": "integer"
        }
       ],
       "ref": "c41621ac-8499-4d7f-a194-247a9703f274",
       "rows": [
        [
         "0",
         "1000",
         "53",
         "Male",
         "No",
         "Smartphone",
         "SKU1004",
         "2",
         "Cancelled",
         "Credit Card",
         "5538.33",
         "791.19",
         "7",
         "Standard",
         "Accessory,Accessory,Accessory",
         "40.21",
         "20",
         "3",
         "2024",
         "3",
         "0",
         "0",
         "0"
        ],
        [
         "1",
         "1000",
         "53",
         "Male",
         "No",
         "Tablet",
         "SKU1002",
         "3",
         "Completed",
         "Paypal",
         "741.09",
         "247.03",
         "3",
         "Overnight",
         "Impulse Item",
         "26.09",
         "20",
         "4",
         "2024",
         "0",
         "1",
         "0",
         "0"
        ],
        [
         "2",
         "1002",
         "41",
         "Male",
         "No",
         "Laptop",
         "SKU1005",
         "3",
         "Completed",
         "Credit Card",
         "1855.84",
         "463.96",
         "4",
         "Express",
         "No Addons",
         "0.0",
         "17",
         "10",
         "2023",
         "0",
         "0",
         "1",
         "0"
        ],
        [
         "3",
         "1002",
         "41",
         "Male",
         "Yes",
         "Smartphone",
         "SKU1004",
         "2",
         "Completed",
         "Cash",
         "3164.76",
         "791.19",
         "4",
         "Overnight",
         "Impulse Item,Impulse Item",
         "60.16",
         "9",
         "8",
         "2024",
         "0",
         "2",
         "0",
         "0"
        ],
        [
         "4",
         "1003",
         "75",
         "Male",
         "Yes",
         "Smartphone",
         "SKU1001",
         "5",
         "Completed",
         "Cash",
         "41.5",
         "20.75",
         "2",
         "Express",
         "Accessory",
         "35.56",
         "21",
         "5",
         "2024",
         "1",
         "0",
         "0",
         "0"
        ]
       ],
       "shape": {
        "columns": 22,
        "rows": 5
       }
      },
      "text/html": [
       "<div>\n",
       "<style scoped>\n",
       "    .dataframe tbody tr th:only-of-type {\n",
       "        vertical-align: middle;\n",
       "    }\n",
       "\n",
       "    .dataframe tbody tr th {\n",
       "        vertical-align: top;\n",
       "    }\n",
       "\n",
       "    .dataframe thead th {\n",
       "        text-align: right;\n",
       "    }\n",
       "</style>\n",
       "<table border=\"1\" class=\"dataframe\">\n",
       "  <thead>\n",
       "    <tr style=\"text-align: right;\">\n",
       "      <th></th>\n",
       "      <th>Customer ID</th>\n",
       "      <th>Age</th>\n",
       "      <th>Gender</th>\n",
       "      <th>Loyalty Member</th>\n",
       "      <th>Product Type</th>\n",
       "      <th>SKU</th>\n",
       "      <th>Rating</th>\n",
       "      <th>Order Status</th>\n",
       "      <th>Payment Method</th>\n",
       "      <th>Total Price</th>\n",
       "      <th>...</th>\n",
       "      <th>Shipping Type</th>\n",
       "      <th>Add-ons Purchased</th>\n",
       "      <th>Add-on Total</th>\n",
       "      <th>Purchase_Day</th>\n",
       "      <th>Purchase_Month</th>\n",
       "      <th>Purchase_Year</th>\n",
       "      <th>Accessory_count</th>\n",
       "      <th>Impulse Item_count</th>\n",
       "      <th>No Addons_count</th>\n",
       "      <th>Extended Warranty_count</th>\n",
       "    </tr>\n",
       "  </thead>\n",
       "  <tbody>\n",
       "    <tr>\n",
       "      <th>0</th>\n",
       "      <td>1000</td>\n",
       "      <td>53</td>\n",
       "      <td>Male</td>\n",
       "      <td>No</td>\n",
       "      <td>Smartphone</td>\n",
       "      <td>SKU1004</td>\n",
       "      <td>2</td>\n",
       "      <td>Cancelled</td>\n",
       "      <td>Credit Card</td>\n",
       "      <td>5538.33</td>\n",
       "      <td>...</td>\n",
       "      <td>Standard</td>\n",
       "      <td>Accessory,Accessory,Accessory</td>\n",
       "      <td>40.21</td>\n",
       "      <td>20</td>\n",
       "      <td>3</td>\n",
       "      <td>2024</td>\n",
       "      <td>3</td>\n",
       "      <td>0</td>\n",
       "      <td>0</td>\n",
       "      <td>0</td>\n",
       "    </tr>\n",
       "    <tr>\n",
       "      <th>1</th>\n",
       "      <td>1000</td>\n",
       "      <td>53</td>\n",
       "      <td>Male</td>\n",
       "      <td>No</td>\n",
       "      <td>Tablet</td>\n",
       "      <td>SKU1002</td>\n",
       "      <td>3</td>\n",
       "      <td>Completed</td>\n",
       "      <td>Paypal</td>\n",
       "      <td>741.09</td>\n",
       "      <td>...</td>\n",
       "      <td>Overnight</td>\n",
       "      <td>Impulse Item</td>\n",
       "      <td>26.09</td>\n",
       "      <td>20</td>\n",
       "      <td>4</td>\n",
       "      <td>2024</td>\n",
       "      <td>0</td>\n",
       "      <td>1</td>\n",
       "      <td>0</td>\n",
       "      <td>0</td>\n",
       "    </tr>\n",
       "    <tr>\n",
       "      <th>2</th>\n",
       "      <td>1002</td>\n",
       "      <td>41</td>\n",
       "      <td>Male</td>\n",
       "      <td>No</td>\n",
       "      <td>Laptop</td>\n",
       "      <td>SKU1005</td>\n",
       "      <td>3</td>\n",
       "      <td>Completed</td>\n",
       "      <td>Credit Card</td>\n",
       "      <td>1855.84</td>\n",
       "      <td>...</td>\n",
       "      <td>Express</td>\n",
       "      <td>No Addons</td>\n",
       "      <td>0.00</td>\n",
       "      <td>17</td>\n",
       "      <td>10</td>\n",
       "      <td>2023</td>\n",
       "      <td>0</td>\n",
       "      <td>0</td>\n",
       "      <td>1</td>\n",
       "      <td>0</td>\n",
       "    </tr>\n",
       "    <tr>\n",
       "      <th>3</th>\n",
       "      <td>1002</td>\n",
       "      <td>41</td>\n",
       "      <td>Male</td>\n",
       "      <td>Yes</td>\n",
       "      <td>Smartphone</td>\n",
       "      <td>SKU1004</td>\n",
       "      <td>2</td>\n",
       "      <td>Completed</td>\n",
       "      <td>Cash</td>\n",
       "      <td>3164.76</td>\n",
       "      <td>...</td>\n",
       "      <td>Overnight</td>\n",
       "      <td>Impulse Item,Impulse Item</td>\n",
       "      <td>60.16</td>\n",
       "      <td>9</td>\n",
       "      <td>8</td>\n",
       "      <td>2024</td>\n",
       "      <td>0</td>\n",
       "      <td>2</td>\n",
       "      <td>0</td>\n",
       "      <td>0</td>\n",
       "    </tr>\n",
       "    <tr>\n",
       "      <th>4</th>\n",
       "      <td>1003</td>\n",
       "      <td>75</td>\n",
       "      <td>Male</td>\n",
       "      <td>Yes</td>\n",
       "      <td>Smartphone</td>\n",
       "      <td>SKU1001</td>\n",
       "      <td>5</td>\n",
       "      <td>Completed</td>\n",
       "      <td>Cash</td>\n",
       "      <td>41.50</td>\n",
       "      <td>...</td>\n",
       "      <td>Express</td>\n",
       "      <td>Accessory</td>\n",
       "      <td>35.56</td>\n",
       "      <td>21</td>\n",
       "      <td>5</td>\n",
       "      <td>2024</td>\n",
       "      <td>1</td>\n",
       "      <td>0</td>\n",
       "      <td>0</td>\n",
       "      <td>0</td>\n",
       "    </tr>\n",
       "  </tbody>\n",
       "</table>\n",
       "<p>5 rows × 22 columns</p>\n",
       "</div>"
      ],
      "text/plain": [
       "   Customer ID  Age Gender Loyalty Member Product Type      SKU  Rating  \\\n",
       "0         1000   53   Male             No   Smartphone  SKU1004       2   \n",
       "1         1000   53   Male             No       Tablet  SKU1002       3   \n",
       "2         1002   41   Male             No       Laptop  SKU1005       3   \n",
       "3         1002   41   Male            Yes   Smartphone  SKU1004       2   \n",
       "4         1003   75   Male            Yes   Smartphone  SKU1001       5   \n",
       "\n",
       "  Order Status Payment Method  Total Price  ...  Shipping Type  \\\n",
       "0    Cancelled    Credit Card      5538.33  ...       Standard   \n",
       "1    Completed         Paypal       741.09  ...      Overnight   \n",
       "2    Completed    Credit Card      1855.84  ...        Express   \n",
       "3    Completed           Cash      3164.76  ...      Overnight   \n",
       "4    Completed           Cash        41.50  ...        Express   \n",
       "\n",
       "               Add-ons Purchased Add-on Total Purchase_Day  Purchase_Month  \\\n",
       "0  Accessory,Accessory,Accessory        40.21           20               3   \n",
       "1                   Impulse Item        26.09           20               4   \n",
       "2                      No Addons         0.00           17              10   \n",
       "3      Impulse Item,Impulse Item        60.16            9               8   \n",
       "4                      Accessory        35.56           21               5   \n",
       "\n",
       "   Purchase_Year  Accessory_count  Impulse Item_count  No Addons_count  \\\n",
       "0           2024                3                   0                0   \n",
       "1           2024                0                   1                0   \n",
       "2           2023                0                   0                1   \n",
       "3           2024                0                   2                0   \n",
       "4           2024                1                   0                0   \n",
       "\n",
       "   Extended Warranty_count  \n",
       "0                        0  \n",
       "1                        0  \n",
       "2                        0  \n",
       "3                        0  \n",
       "4                        0  \n",
       "\n",
       "[5 rows x 22 columns]"
      ]
     },
     "execution_count": 36,
     "metadata": {},
     "output_type": "execute_result"
    }
   ],
   "source": [
    "data.head()"
   ]
  },
  {
   "cell_type": "code",
   "execution_count": 37,
   "id": "3d8baed5",
   "metadata": {},
   "outputs": [],
   "source": [
    "# Save Data\n",
    "data.to_csv('../00_Data/electronic_sales_prepared.csv', index=False)"
   ]
  }
 ],
 "metadata": {
  "kernelspec": {
   "display_name": "venv",
   "language": "python",
   "name": "python3"
  },
  "language_info": {
   "codemirror_mode": {
    "name": "ipython",
    "version": 3
   },
   "file_extension": ".py",
   "mimetype": "text/x-python",
   "name": "python",
   "nbconvert_exporter": "python",
   "pygments_lexer": "ipython3",
   "version": "3.12.7"
  }
 },
 "nbformat": 4,
 "nbformat_minor": 5
}
